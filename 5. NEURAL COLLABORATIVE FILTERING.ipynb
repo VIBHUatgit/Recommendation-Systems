{
 "cells": [
  {
   "cell_type": "code",
   "execution_count": 1,
   "metadata": {},
   "outputs": [],
   "source": [
    "%matplotlib inline\n",
    "import matplotlib.pyplot as plt\n",
    "import torch\n",
    "import torch.nn as nn\n",
    "from torch.nn import Module\n",
    "from scipy.sparse import coo_matrix\n",
    "from scipy.sparse import vstack\n",
    "from scipy import sparse\n",
    "import numpy as np\n",
    "import pandas as pd\n",
    "from torch.optim import Adam\n",
    "from torch.nn import MSELoss\n",
    "import time\n",
    "\n",
    "np.random.seed(23)"
   ]
  },
  {
   "cell_type": "markdown",
   "metadata": {},
   "source": [
    "### Data Preprocessing"
   ]
  },
  {
   "cell_type": "code",
   "execution_count": 2,
   "metadata": {},
   "outputs": [],
   "source": [
    "from torch.utils.data import Dataset, DataLoader\n",
    "from torchvision import transforms, utils\n",
    "\n",
    "class RatingsDataset(Dataset):\n",
    "    \"\"\"Ratings Dataset\"\"\"\n",
    "\n",
    "    def __init__(self):\n",
    "        \"\"\"\n",
    "        Args:\n",
    "            csv_file (string): Path to the csv file with ratings.\n",
    "        \"\"\"\n",
    "        self.csv = pd.read_csv('data/ratings.csv')\n",
    "        \n",
    "        self.userId = list(self.csv.userId-1)\n",
    "        self.movieId = list(self.csv.movieId-1)\n",
    "        self.ratings = list(self.csv.rating)\n",
    "        \n",
    "        self.userNums = np.max(self.userId)+1\n",
    "        self.movieNums = np.max(self.movieId)+1\n",
    "\n",
    "    def __len__(self):\n",
    "        return len(self.csv)\n",
    "\n",
    "    def __getitem__(self, idx):\n",
    "        return {\n",
    "            'user': self.userId[idx],\n",
    "            'movie': self.movieId[idx], \n",
    "            'rating': self.ratings[idx]\n",
    "        }\n",
    "    \n",
    "    def get_user_number(self):\n",
    "        return self.userNums\n",
    "    \n",
    "    def get_movie_number(self):\n",
    "        return self.movieNums"
   ]
  },
  {
   "cell_type": "code",
   "execution_count": 3,
   "metadata": {},
   "outputs": [],
   "source": [
    "rt = pd.read_csv('data/ratings.csv')\n",
    "rt['userId'] = rt['userId'] - 1\n",
    "rt['movieId'] = rt['movieId'] - 1\n",
    "\n",
    "dataset = RatingsDataset()\n",
    "\n",
    "train_size = int(0.6 * len(dataset))\n",
    "val_size = int(0.2 * len(dataset))\n",
    "test_size = len(dataset) - train_size - val_size\n",
    "\n",
    "train_dataset, val_dataset, test_dataset = torch.utils.data.random_split(dataset, [train_size, val_size, test_size])"
   ]
  },
  {
   "cell_type": "code",
   "execution_count": 4,
   "metadata": {},
   "outputs": [
    {
     "data": {
      "text/plain": [
       "671"
      ]
     },
     "execution_count": 4,
     "metadata": {},
     "output_type": "execute_result"
    }
   ],
   "source": [
    "len(set(dataset.userId))"
   ]
  },
  {
   "cell_type": "code",
   "execution_count": 5,
   "metadata": {},
   "outputs": [
    {
     "data": {
      "text/plain": [
       "9066"
      ]
     },
     "execution_count": 5,
     "metadata": {},
     "output_type": "execute_result"
    }
   ],
   "source": [
    "len(set(dataset.movieId))"
   ]
  },
  {
   "cell_type": "code",
   "execution_count": 6,
   "metadata": {},
   "outputs": [
    {
     "data": {
      "text/plain": [
       "100004"
      ]
     },
     "execution_count": 6,
     "metadata": {},
     "output_type": "execute_result"
    }
   ],
   "source": [
    "len(dataset)"
   ]
  },
  {
   "cell_type": "code",
   "execution_count": 7,
   "metadata": {},
   "outputs": [
    {
     "data": {
      "text/plain": [
       "671"
      ]
     },
     "execution_count": 7,
     "metadata": {},
     "output_type": "execute_result"
    }
   ],
   "source": [
    "dataset.get_user_number()"
   ]
  },
  {
   "cell_type": "code",
   "execution_count": 8,
   "metadata": {},
   "outputs": [
    {
     "data": {
      "text/plain": [
       "163949"
      ]
     },
     "execution_count": 8,
     "metadata": {},
     "output_type": "execute_result"
    }
   ],
   "source": [
    "dataset.get_movie_number()"
   ]
  },
  {
   "cell_type": "markdown",
   "metadata": {},
   "source": [
    "### Model Implementation - Neural Collaborative Filtering "
   ]
  },
  {
   "cell_type": "code",
   "execution_count": null,
   "metadata": {},
   "outputs": [],
   "source": []
  },
  {
   "cell_type": "code",
   "execution_count": 17,
   "metadata": {},
   "outputs": [],
   "source": [
    "class NCF(Module):\n",
    "\n",
    "    def __init__(self, userNum, itemNum, dim=64, first_layer=128):\n",
    "        super(NCF, self).__init__()\n",
    "        \n",
    "        self.uEmbd = nn.Embedding(userNum, dim)\n",
    "        self.iEmbd = nn.Embedding(itemNum, dim)\n",
    "        \n",
    "        self.mf_uEmbd = nn.Embedding(userNum, dim)\n",
    "        self.mf_iEmbd = nn.Embedding(itemNum, dim)\n",
    "        \n",
    "        self.mlp = nn.Sequential(nn.Linear(dim*2, first_layer),\n",
    "                                       nn.Dropout(0.25),\n",
    "                                       nn.ReLU(inplace=True),\n",
    "                                       nn.Linear(first_layer, first_layer//2),\n",
    "                                       nn.Dropout(0.25),\n",
    "                                       nn.ReLU(inplace=True),\n",
    "                                       nn.Linear(first_layer//2, first_layer//4),\n",
    "                                       nn.Dropout(0.25),\n",
    "                                       nn.ReLU(inplace=True),\n",
    "                                       nn.Linear(first_layer//4, first_layer//4))\n",
    "        \n",
    "        self.neumf = nn.Linear(dim+first_layer//4, 1)\n",
    "        \n",
    "    def forward(self, userIdx,itemIdx):\n",
    "        \n",
    "        uembd = self.uEmbd(userIdx)\n",
    "        \n",
    "        iembd = self.iEmbd(itemIdx)\n",
    "        #print(userIdx.shape,itemIdx.shape)\n",
    "        #print(uembd.shape,iembd.shape)\n",
    "        embd = torch.cat([uembd, iembd], dim=1)\n",
    "    \n",
    "        mlp = self.mlp(embd)\n",
    "        mf = self.uEmbd(userIdx)*self.iEmbd(itemIdx)\n",
    "        \n",
    "        prediction = self.neumf(torch.cat([mlp, mf], dim=1))\n",
    "        \n",
    "        return prediction.flatten()"
   ]
  },
  {
   "cell_type": "code",
   "execution_count": 18,
   "metadata": {},
   "outputs": [],
   "source": [
    "def train(loader, model, optim, loss):\n",
    "    model.train()\n",
    "    ls = 0.\n",
    "    \n",
    "    for id, batch in enumerate(loader):\n",
    "        optim.zero_grad()\n",
    "        prediction = model(batch['user'].cuda(0), batch['movie'].cuda(0))\n",
    "        loss_ = loss(batch['rating'].float().cuda(0), prediction)\n",
    "        loss_.backward()\n",
    "        optim.step()\n",
    "        ls += loss_.item()\n",
    "        \n",
    "    return ls / len(loader)\n",
    "\n",
    "\n",
    "def evaluate(loader, model, loss):\n",
    "    model.eval()\n",
    "    ls = 0.\n",
    "\n",
    "    with torch.no_grad():\n",
    "        for id, batch in enumerate(loader):\n",
    "            prediction = model(batch['user'].cuda(0), batch['movie'].cuda(0))\n",
    "            loss_ = loss(batch['rating'].float().cuda(0), prediction)\n",
    "            ls += loss_.item()\n",
    "            \n",
    "    return ls / len(loader)"
   ]
  },
  {
   "cell_type": "code",
   "execution_count": 19,
   "metadata": {},
   "outputs": [],
   "source": [
    "def trainer(trainLoader, valLoader, model, optim, loss, epoch, model_name, verbose=True):\n",
    "    \n",
    "    train_losses = []\n",
    "    val_losses = []\n",
    "\n",
    "    best_val = np.inf\n",
    "\n",
    "    for i in range(epoch):\n",
    "        start = time.time()\n",
    "        TL = train(trainLoader, model, optim, loss)\n",
    "        VL = evaluate(valLoader, model, loss)\n",
    "        \n",
    "        if verbose:\n",
    "            print(\"Epoch {} | Train Loss: {:.3f} - Val Loss: {:.3f} - in {:.3f} mins.\".format(i+1, TL, VL, (time.time()-start)/60))\n",
    "\n",
    "        if VL < best_val:\n",
    "            torch.save(model.state_dict(), model_name + '.pth.tar')\n",
    "            best_val = VL\n",
    "\n",
    "        train_losses.append(TL)\n",
    "        val_losses.append(VL)\n",
    "        \n",
    "    torch.save({\n",
    "        'train_losses': train_losses,\n",
    "        'val_losses': val_losses,\n",
    "        'min_val_loss': min(val_losses)\n",
    "    }, model_name + '_loss.pth.tar')\n",
    "        \n",
    "    return torch.load(model_name + '_loss.pth.tar')"
   ]
  },
  {
   "cell_type": "markdown",
   "metadata": {},
   "source": [
    "### NeuMF Training"
   ]
  },
  {
   "cell_type": "code",
   "execution_count": 25,
   "metadata": {},
   "outputs": [],
   "source": [
    "EMBEDDING_DIM = 64\n",
    "\n",
    "GRID_SEARCH = {\n",
    "    'batch_size': [128, 256, 512],\n",
    "    'first_layer': [64, 128, 256],\n",
    "    'learning_rate': [1e-3, 1e-2]\n",
    "}"
   ]
  },
  {
   "cell_type": "code",
   "execution_count": 26,
   "metadata": {},
   "outputs": [
    {
     "name": "stdout",
     "output_type": "stream",
     "text": [
      "Batch Size: 128 | First Layer Neuron: 64 | Learning Rate: 0.001 - Min. Val. L1 Loss: 0.8514899901854687\n",
      "Batch Size: 128 | First Layer Neuron: 64 | Learning Rate: 0.01 - Min. Val. L1 Loss: 0.7646537243555753\n",
      "Batch Size: 128 | First Layer Neuron: 128 | Learning Rate: 0.001 - Min. Val. L1 Loss: 0.7854857918543693\n",
      "Batch Size: 128 | First Layer Neuron: 128 | Learning Rate: 0.01 - Min. Val. L1 Loss: 0.7542014622535461\n",
      "Batch Size: 128 | First Layer Neuron: 256 | Learning Rate: 0.001 - Min. Val. L1 Loss: 0.7660162892097082\n",
      "Batch Size: 128 | First Layer Neuron: 256 | Learning Rate: 0.01 - Min. Val. L1 Loss: 0.7594847541589004\n",
      "Batch Size: 256 | First Layer Neuron: 64 | Learning Rate: 0.001 - Min. Val. L1 Loss: 0.8494115617030706\n",
      "Batch Size: 256 | First Layer Neuron: 64 | Learning Rate: 0.01 - Min. Val. L1 Loss: 0.7643092022492335\n",
      "Batch Size: 256 | First Layer Neuron: 128 | Learning Rate: 0.001 - Min. Val. L1 Loss: 0.7803178842251117\n",
      "Batch Size: 256 | First Layer Neuron: 128 | Learning Rate: 0.01 - Min. Val. L1 Loss: 0.7592084102141552\n",
      "Batch Size: 256 | First Layer Neuron: 256 | Learning Rate: 0.001 - Min. Val. L1 Loss: 0.7917055579332205\n",
      "Batch Size: 256 | First Layer Neuron: 256 | Learning Rate: 0.01 - Min. Val. L1 Loss: 0.7559907023723309\n",
      "Batch Size: 512 | First Layer Neuron: 64 | Learning Rate: 0.001 - Min. Val. L1 Loss: 0.8780442354006645\n",
      "Batch Size: 512 | First Layer Neuron: 64 | Learning Rate: 0.01 - Min. Val. L1 Loss: 0.8156461730981485\n",
      "Batch Size: 512 | First Layer Neuron: 128 | Learning Rate: 0.001 - Min. Val. L1 Loss: 0.8257112227953397\n",
      "Batch Size: 512 | First Layer Neuron: 128 | Learning Rate: 0.01 - Min. Val. L1 Loss: 0.8040659931989816\n",
      "Batch Size: 512 | First Layer Neuron: 256 | Learning Rate: 0.001 - Min. Val. L1 Loss: 0.7948599717555902\n",
      "Batch Size: 512 | First Layer Neuron: 256 | Learning Rate: 0.01 - Min. Val. L1 Loss: 0.7615553110073774\n"
     ]
    }
   ],
   "source": [
    "for bs in GRID_SEARCH['batch_size']:\n",
    "    for layer in GRID_SEARCH['first_layer']:\n",
    "        for lr in GRID_SEARCH['learning_rate']:\n",
    "            \n",
    "            trainLoader = torch.utils.data.DataLoader(train_dataset, batch_size=bs, shuffle=True, num_workers=4, drop_last=True)\n",
    "            valLoader = torch.utils.data.DataLoader(val_dataset, batch_size=bs, shuffle=False, num_workers=4, drop_last=True)\n",
    "            \n",
    "            model = NCF(dataset.get_user_number(), dataset.get_movie_number(), \n",
    "                        dim=EMBEDDING_DIM, first_layer=layer).cuda(0)\n",
    "            \n",
    "            optim = Adam(model.parameters(), lr=lr)\n",
    "            loss = nn.L1Loss()\n",
    "            epoch = 1\n",
    "            \n",
    "            ncf_out = trainer(trainLoader, valLoader, model, optim, loss, epoch, 'ncf_model', False)\n",
    "            \n",
    "            print(\"Batch Size: {} | First Layer Neuron: {} | Learning Rate: {} - Min. Val. L1 Loss: {}\".format(bs, \n",
    "                                                                                                            layer, \n",
    "                                                                                                            lr, \n",
    "                                                                                                            ncf_out['min_val_loss']))"
   ]
  },
  {
   "cell_type": "code",
   "execution_count": 27,
   "metadata": {},
   "outputs": [
    {
     "name": "stdout",
     "output_type": "stream",
     "text": [
      "Batch Size: 128 | First Layer Neuron: 64 | Learning Rate: 0.001 - Min. Val. L1 Loss: 0.731445733935405\n"
     ]
    }
   ],
   "source": [
    "bs = 128\n",
    "layer = 64\n",
    "lr = 1e-3\n",
    "EMBEDDING_DIM = 64\n",
    "\n",
    "trainLoader = torch.utils.data.DataLoader(train_dataset, batch_size=bs, shuffle=True, num_workers=4, drop_last=True)\n",
    "valLoader = torch.utils.data.DataLoader(test_dataset, batch_size=bs, shuffle=False, num_workers=4, drop_last=True)\n",
    "\n",
    "model = NCF(dataset.get_user_number(), dataset.get_movie_number(), \n",
    "            dim=EMBEDDING_DIM, first_layer=layer).cuda(0)\n",
    "\n",
    "optim = Adam(model.parameters(), lr=lr)\n",
    "loss = nn.L1Loss()\n",
    "epoch = 5\n",
    "\n",
    "nf_out = trainer(trainLoader, valLoader, model, optim, loss, epoch, 'ncf_model', False)\n",
    "\n",
    "print(\"Batch Size: {} | First Layer Neuron: {} | Learning Rate: {} - Min. Val. L1 Loss: {}\".format(bs, \n",
    "                                                                                                layer, \n",
    "                                                                                                lr, \n",
    "                                                                                                nf_out['min_val_loss']))"
   ]
  },
  {
   "cell_type": "code",
   "execution_count": 30,
   "metadata": {},
   "outputs": [
    {
     "name": "stdout",
     "output_type": "stream",
     "text": [
      "Batch Size: 128 | First Layer Neuron: 64 | Learning Rate: 0.001 - Min. Val. L2 Loss: 0.9989848763514788\n",
      "Batch Size: 128 | First Layer Neuron: 64 | Learning Rate: 0.01 - Min. Val. L2 Loss: 0.960446508266987\n",
      "Batch Size: 128 | First Layer Neuron: 128 | Learning Rate: 0.001 - Min. Val. L2 Loss: 0.9854521843103262\n",
      "Batch Size: 128 | First Layer Neuron: 128 | Learning Rate: 0.01 - Min. Val. L2 Loss: 0.9135276060073804\n",
      "Batch Size: 128 | First Layer Neuron: 256 | Learning Rate: 0.001 - Min. Val. L2 Loss: 0.9554493224773651\n",
      "Batch Size: 128 | First Layer Neuron: 256 | Learning Rate: 0.01 - Min. Val. L2 Loss: 0.9155096190098004\n",
      "Batch Size: 256 | First Layer Neuron: 64 | Learning Rate: 0.001 - Min. Val. L2 Loss: 1.1165091616985126\n",
      "Batch Size: 256 | First Layer Neuron: 64 | Learning Rate: 0.01 - Min. Val. L2 Loss: 0.9652081827322642\n",
      "Batch Size: 256 | First Layer Neuron: 128 | Learning Rate: 0.001 - Min. Val. L2 Loss: 1.0169883102942736\n",
      "Batch Size: 256 | First Layer Neuron: 128 | Learning Rate: 0.01 - Min. Val. L2 Loss: 0.9610752363999685\n",
      "Batch Size: 256 | First Layer Neuron: 256 | Learning Rate: 0.001 - Min. Val. L2 Loss: 0.9902186898084787\n",
      "Batch Size: 256 | First Layer Neuron: 256 | Learning Rate: 0.01 - Min. Val. L2 Loss: 0.9216402341157962\n",
      "Batch Size: 512 | First Layer Neuron: 64 | Learning Rate: 0.001 - Min. Val. L2 Loss: 1.169604276999449\n",
      "Batch Size: 512 | First Layer Neuron: 64 | Learning Rate: 0.01 - Min. Val. L2 Loss: 1.0142854895347204\n",
      "Batch Size: 512 | First Layer Neuron: 128 | Learning Rate: 0.001 - Min. Val. L2 Loss: 1.0549442110917506\n",
      "Batch Size: 512 | First Layer Neuron: 128 | Learning Rate: 0.01 - Min. Val. L2 Loss: 0.9556257388530633\n",
      "Batch Size: 512 | First Layer Neuron: 256 | Learning Rate: 0.001 - Min. Val. L2 Loss: 1.0301709205676348\n",
      "Batch Size: 512 | First Layer Neuron: 256 | Learning Rate: 0.01 - Min. Val. L2 Loss: 0.9295479105069087\n"
     ]
    }
   ],
   "source": [
    "for bs in GRID_SEARCH['batch_size']:\n",
    "    for layer in GRID_SEARCH['first_layer']:\n",
    "        for lr in GRID_SEARCH['learning_rate']:\n",
    "            \n",
    "            trainLoader = torch.utils.data.DataLoader(train_dataset, batch_size=bs, shuffle=True, num_workers=4, drop_last=True)\n",
    "            valLoader = torch.utils.data.DataLoader(val_dataset, batch_size=bs, shuffle=False, num_workers=4, drop_last=True)\n",
    "            \n",
    "            model = NCF(dataset.get_user_number(), dataset.get_movie_number(), \n",
    "                        dim=EMBEDDING_DIM, first_layer=layer).cuda(0)\n",
    "            \n",
    "            optim = Adam(model.parameters(), lr=lr)\n",
    "            loss = nn.MSELoss()\n",
    "            epoch = 1\n",
    "            \n",
    "            ncf_out = trainer(trainLoader, valLoader, model, optim, loss, epoch, 'ncf_model', False)\n",
    "            \n",
    "            print(\"Batch Size: {} | First Layer Neuron: {} | Learning Rate: {} - Min. Val. L2 Loss: {}\".format(bs, \n",
    "                                                                                                            layer, \n",
    "                                                                                                            lr, \n",
    "                                                                                                            ncf_out['min_val_loss']))"
   ]
  },
  {
   "cell_type": "code",
   "execution_count": null,
   "metadata": {},
   "outputs": [],
   "source": []
  },
  {
   "cell_type": "code",
   "execution_count": 31,
   "metadata": {},
   "outputs": [
    {
     "name": "stdout",
     "output_type": "stream",
     "text": [
      "Batch Size: 128 | First Layer Neuron: 64 | Learning Rate: 0.001 - Min. Val. L2 Loss: 0.9085919845562714\n"
     ]
    }
   ],
   "source": [
    "bs = 128\n",
    "layer = 64\n",
    "lr = 1e-3\n",
    "EMBEDDING_DIM = 64\n",
    "\n",
    "trainLoader = torch.utils.data.DataLoader(train_dataset, batch_size=bs, shuffle=True, num_workers=4, drop_last=True)\n",
    "valLoader = torch.utils.data.DataLoader(test_dataset, batch_size=bs, shuffle=False, num_workers=4, drop_last=True)\n",
    "\n",
    "model = NCF(dataset.get_user_number(), dataset.get_movie_number(), \n",
    "            dim=EMBEDDING_DIM, first_layer=layer).cuda(0)\n",
    "\n",
    "optim = Adam(model.parameters(), lr=lr)\n",
    "loss = nn.MSELoss()\n",
    "epoch = 5\n",
    "\n",
    "nf_out = trainer(trainLoader, valLoader, model, optim, loss, epoch, 'ncf_model', False)\n",
    "\n",
    "print(\"Batch Size: {} | First Layer Neuron: {} | Learning Rate: {} - Min. Val. L2 Loss: {}\".format(bs, \n",
    "                                                                                                layer, \n",
    "                                                                                                lr, \n",
    "                                                                                                nf_out['min_val_loss']))"
   ]
  },
  {
   "cell_type": "markdown",
   "metadata": {},
   "source": [
    "### Training Results"
   ]
  },
  {
   "cell_type": "code",
   "execution_count": 32,
   "metadata": {},
   "outputs": [],
   "source": [
    "nf_out = torch.load('ncf_model_loss.pth.tar')\n"
   ]
  },
  {
   "cell_type": "code",
   "execution_count": 33,
   "metadata": {},
   "outputs": [
    {
     "data": {
      "image/png": "[encoded data removed]",
      "text/plain": [
       "<Figure size 432x288 with 1 Axes>"
      ]
     },
     "metadata": {
      "needs_background": "light"
     },
     "output_type": "display_data"
    }
   ],
   "source": [
    "plt.title('NCF')\n",
    "plt.plot(nf_out['train_losses'], label='NCF Train.')\n",
    "plt.plot(nf_out['val_losses'], label='NCF Val.', linestyle='--')\n",
    "_ = plt.ylabel('L1 Loss')\n",
    "_ = plt.xlabel('Epoch')\n",
    "_ = plt.legend()\n",
    "plt.savefig('ncf.png', bbox_inches='tight', dpi=200)"
   ]
  },
  {
   "cell_type": "markdown",
   "metadata": {},
   "source": [
    "***\n",
    "\n",
    "## References\n",
    "\n",
    "[1] _He, Xiangnan, et al. \"Neural collaborative filtering.\" Proceedings of the 26th international conference on world wide web. International World Wide Web Conferences Steering Committee, 2017._\n"
   ]
  },
  {
   "cell_type": "markdown",
   "metadata": {},
   "source": []
  }
 ],
 "metadata": {
  "anaconda-cloud": {},
  "kernelspec": {
   "display_name": "Python 3.6.10 ('dlnlp')",
   "language": "python",
   "name": "python3"
  },
  "language_info": {
   "codemirror_mode": {
    "name": "ipython",
    "version": 3
   },
   "file_extension": ".py",
   "mimetype": "text/x-python",
   "name": "python",
   "nbconvert_exporter": "python",
   "pygments_lexer": "ipython3",
   "version": "3.6.10"
  },
  "vscode": {
   "interpreter": {
    "hash": "4aef9d774d70b2c51bdf7624927c0ccbaf98dafbd30175e3af0b77e6179b58dc"
   }
  }
 },
 "nbformat": 4,
 "nbformat_minor": 2
}
